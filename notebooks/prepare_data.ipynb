{
 "cells": [
  {
   "cell_type": "code",
   "execution_count": 1,
   "metadata": {},
   "outputs": [],
   "source": [
    "import matplotlib.pyplot as plt\n",
    "import pandas as pd\n",
    "from monai.losses import DiceLoss\n",
    "from monai.metrics import DiceMetric, compute_meandice\n",
    "from monai.networks.nets import UNet\n",
    "import torch\n",
    "import torch.nn as nn\n",
    "import numpy as np\n",
    "import os\n",
    "import torch.optim as opt\n",
    "import torch.nn.functional as F\n",
    "import torchvision\n",
    "import torchvision.transforms as transforms\n",
    "from torch.utils.tensorboard import SummaryWriter\n",
    "from tqdm.notebook import tqdm\n",
    "import cv2\n",
    "import h5py\n",
    "from scipy.ndimage.interpolation import zoom\n",
    "import torchvision.transforms as T\n",
    "import random\n",
    "import SimpleITK as sitk\n",
    "import pandas as pd"
   ]
  },
  {
   "cell_type": "code",
   "execution_count": 2,
   "metadata": {},
   "outputs": [
    {
     "data": {
      "text/html": [
       "<div>\n",
       "<style scoped>\n",
       "    .dataframe tbody tr th:only-of-type {\n",
       "        vertical-align: middle;\n",
       "    }\n",
       "\n",
       "    .dataframe tbody tr th {\n",
       "        vertical-align: top;\n",
       "    }\n",
       "\n",
       "    .dataframe thead th {\n",
       "        text-align: right;\n",
       "    }\n",
       "</style>\n",
       "<table border=\"1\" class=\"dataframe\">\n",
       "  <thead>\n",
       "    <tr style=\"text-align: right;\">\n",
       "      <th></th>\n",
       "      <th>idx</th>\n",
       "      <th>ct</th>\n",
       "      <th>full</th>\n",
       "      <th>con</th>\n",
       "      <th>reference</th>\n",
       "      <th>id</th>\n",
       "    </tr>\n",
       "  </thead>\n",
       "  <tbody>\n",
       "    <tr>\n",
       "      <th>0</th>\n",
       "      <td>1.2.840.113704.1.111.5860.1109410460.10.</td>\n",
       "      <td>./data/scans/1.2.840.113704.1.111.5860.1109410...</td>\n",
       "      <td>NaN</td>\n",
       "      <td>./data/consensusAnnotations/1.2.840.113704.1.1...</td>\n",
       "      <td>./data/referenceAnnotations/1.2.840.113704.1.1...</td>\n",
       "      <td>1109410460</td>\n",
       "    </tr>\n",
       "    <tr>\n",
       "      <th>1</th>\n",
       "      <td>1.2.840.113704.1.111.7092.1087039130.7.</td>\n",
       "      <td>./data/scans/1.2.840.113704.1.111.7092.1087039...</td>\n",
       "      <td>NaN</td>\n",
       "      <td>./data/consensusAnnotations/1.2.840.113704.1.1...</td>\n",
       "      <td>./data/referenceAnnotations/1.2.840.113704.1.1...</td>\n",
       "      <td>1087039130</td>\n",
       "    </tr>\n",
       "    <tr>\n",
       "      <th>2</th>\n",
       "      <td>1.2.840.113704.1.111.4276.1178184813.7.</td>\n",
       "      <td>./data/scans/1.2.840.113704.1.111.4276.1178184...</td>\n",
       "      <td>NaN</td>\n",
       "      <td>./data/consensusAnnotations/1.2.840.113704.1.1...</td>\n",
       "      <td>./data/referenceAnnotations/1.2.840.113704.1.1...</td>\n",
       "      <td>1178184813</td>\n",
       "    </tr>\n",
       "    <tr>\n",
       "      <th>3</th>\n",
       "      <td>1.2.840.113704.1.111.272.1131110755.7.</td>\n",
       "      <td>./data/scans/1.2.840.113704.1.111.272.11311107...</td>\n",
       "      <td>NaN</td>\n",
       "      <td>./data/consensusAnnotations/1.2.840.113704.1.1...</td>\n",
       "      <td>./data/referenceAnnotations/1.2.840.113704.1.1...</td>\n",
       "      <td>1131110755</td>\n",
       "    </tr>\n",
       "    <tr>\n",
       "      <th>4</th>\n",
       "      <td>1.2.840.113704.1.111.4348.1117273392.7.</td>\n",
       "      <td>./data/scans/1.2.840.113704.1.111.4348.1117273...</td>\n",
       "      <td>NaN</td>\n",
       "      <td>./data/consensusAnnotations/1.2.840.113704.1.1...</td>\n",
       "      <td>./data/referenceAnnotations/1.2.840.113704.1.1...</td>\n",
       "      <td>1117273392</td>\n",
       "    </tr>\n",
       "  </tbody>\n",
       "</table>\n",
       "</div>"
      ],
      "text/plain": [
       "                                        idx  \\\n",
       "0  1.2.840.113704.1.111.5860.1109410460.10.   \n",
       "1   1.2.840.113704.1.111.7092.1087039130.7.   \n",
       "2   1.2.840.113704.1.111.4276.1178184813.7.   \n",
       "3    1.2.840.113704.1.111.272.1131110755.7.   \n",
       "4   1.2.840.113704.1.111.4348.1117273392.7.   \n",
       "\n",
       "                                                  ct full  \\\n",
       "0  ./data/scans/1.2.840.113704.1.111.5860.1109410...  NaN   \n",
       "1  ./data/scans/1.2.840.113704.1.111.7092.1087039...  NaN   \n",
       "2  ./data/scans/1.2.840.113704.1.111.4276.1178184...  NaN   \n",
       "3  ./data/scans/1.2.840.113704.1.111.272.11311107...  NaN   \n",
       "4  ./data/scans/1.2.840.113704.1.111.4348.1117273...  NaN   \n",
       "\n",
       "                                                 con  \\\n",
       "0  ./data/consensusAnnotations/1.2.840.113704.1.1...   \n",
       "1  ./data/consensusAnnotations/1.2.840.113704.1.1...   \n",
       "2  ./data/consensusAnnotations/1.2.840.113704.1.1...   \n",
       "3  ./data/consensusAnnotations/1.2.840.113704.1.1...   \n",
       "4  ./data/consensusAnnotations/1.2.840.113704.1.1...   \n",
       "\n",
       "                                           reference          id  \n",
       "0  ./data/referenceAnnotations/1.2.840.113704.1.1...  1109410460  \n",
       "1  ./data/referenceAnnotations/1.2.840.113704.1.1...  1087039130  \n",
       "2  ./data/referenceAnnotations/1.2.840.113704.1.1...  1178184813  \n",
       "3  ./data/referenceAnnotations/1.2.840.113704.1.1...  1131110755  \n",
       "4  ./data/referenceAnnotations/1.2.840.113704.1.1...  1117273392  "
      ]
     },
     "execution_count": 2,
     "metadata": {},
     "output_type": "execute_result"
    }
   ],
   "source": [
    "info = pd.read_csv('./labeling.csv')\n",
    "ct_paths = info.ct\n",
    "gt_paths = info.reference\n",
    "info['id'] = info.idx.apply(lambda x: x.split('/')[-1].split('.')[-3])\n",
    "info.head()"
   ]
  },
  {
   "cell_type": "code",
   "execution_count": 3,
   "metadata": {},
   "outputs": [],
   "source": [
    "example_ct = sitk.GetArrayFromImage(sitk.ReadImage(ct_paths[0], sitk.sitkFloat32))\n",
    "example_gt = sitk.GetArrayFromImage(sitk.ReadImage(gt_paths[0], sitk.sitkInt8))\n",
    "example_gt[example_gt > 0] = 1"
   ]
  },
  {
   "cell_type": "code",
   "execution_count": 4,
   "metadata": {},
   "outputs": [
    {
     "data": {
      "text/plain": [
       "((402, 318, 416), (402, 318, 416))"
      ]
     },
     "execution_count": 4,
     "metadata": {},
     "output_type": "execute_result"
    }
   ],
   "source": [
    "example_ct.shape, example_gt.shape"
   ]
  },
  {
   "cell_type": "code",
   "execution_count": 5,
   "metadata": {},
   "outputs": [
    {
     "data": {
      "text/plain": [
       "<matplotlib.image.AxesImage at 0x7f4e80d07cd0>"
      ]
     },
     "execution_count": 5,
     "metadata": {},
     "output_type": "execute_result"
    },
    {
     "data": {
      "image/png": "[encoded data removed]",
      "text/plain": [
       "<Figure size 432x288 with 1 Axes>"
      ]
     },
     "metadata": {
      "needs_background": "light"
     },
     "output_type": "display_data"
    }
   ],
   "source": [
    "plt.imshow(example_ct[:, 100, :], cmap='gray')"
   ]
  },
  {
   "cell_type": "code",
   "execution_count": 6,
   "metadata": {},
   "outputs": [
    {
     "data": {
      "text/plain": [
       "<matplotlib.image.AxesImage at 0x7f4e80c5e3a0>"
      ]
     },
     "execution_count": 6,
     "metadata": {},
     "output_type": "execute_result"
    },
    {
     "data": {
      "image/png": "[encoded data removed]",
      "text/plain": [
       "<Figure size 432x288 with 1 Axes>"
      ]
     },
     "metadata": {
      "needs_background": "light"
     },
     "output_type": "display_data"
    }
   ],
   "source": [
    "plt.imshow(example_gt[:, 100, :], cmap='gray')"
   ]
  },
  {
   "cell_type": "code",
   "execution_count": 7,
   "metadata": {},
   "outputs": [
    {
     "data": {
      "text/plain": [
       "array([0, 1], dtype=int8)"
      ]
     },
     "execution_count": 7,
     "metadata": {},
     "output_type": "execute_result"
    }
   ],
   "source": [
    "np.unique(example_gt)"
   ]
  },
  {
   "cell_type": "code",
   "execution_count": 8,
   "metadata": {},
   "outputs": [
    {
     "data": {
      "text/plain": [
       "36"
      ]
     },
     "metadata": {},
     "output_type": "display_data"
    },
    {
     "data": {
      "text/plain": [
       "36"
      ]
     },
     "metadata": {},
     "output_type": "display_data"
    },
    {
     "data": {
      "text/plain": [
       "9"
      ]
     },
     "metadata": {},
     "output_type": "display_data"
    },
    {
     "data": {
      "text/plain": [
       "9"
      ]
     },
     "metadata": {},
     "output_type": "display_data"
    }
   ],
   "source": [
    "train_idx = np.random.choice(range(45), 36, replace=False)\n",
    "\n",
    "train_ct = ct_paths[[x for x in range(45) if x in train_idx]]\n",
    "train_gt = gt_paths[[x for x in range(45) if x in train_idx]]\n",
    "\n",
    "val_ct = ct_paths[[x for x in range(45) if x not in train_idx]]\n",
    "val_gt = gt_paths[[x for x in range(45) if x not in train_idx]]\n",
    "\n",
    "display(len(train_ct), len(train_gt), len(val_ct), len(val_gt))"
   ]
  },
  {
   "cell_type": "code",
   "execution_count": null,
   "metadata": {},
   "outputs": [
    {
     "data": {
      "application/vnd.jupyter.widget-view+json": {
       "model_id": "13c95315a4584c84a10ce445c6ae8b92",
       "version_major": 2,
       "version_minor": 0
      },
      "text/plain": [
       "HBox(children=(HTML(value=''), FloatProgress(value=0.0, max=36.0), HTML(value='')))"
      ]
     },
     "metadata": {},
     "output_type": "display_data"
    },
    {
     "name": "stdout",
     "output_type": "stream",
     "text": [
      "(400, 318, 400) (400, 318, 400)\n",
      "[0 1]\n",
      "(400, 326, 400) (400, 326, 400)\n",
      "[0 1]\n"
     ]
    }
   ],
   "source": [
    "for ct_p, gt_p in tqdm(zip(train_ct, train_gt), total=len(train_gt)):\n",
    "    ct = sitk.GetArrayFromImage(sitk.ReadImage(ct_p, sitk.sitkFloat32))\n",
    "    gt = sitk.GetArrayFromImage(sitk.ReadImage(gt_p, sitk.sitkInt8))\n",
    "    gt = zoom(gt, np.array([400, gt.shape[1], 400])/gt.shape)\n",
    "    ct = zoom(ct, np.array(gt.shape)/np.array(ct.shape))\n",
    "    print(gt.shape, ct.shape)\n",
    "    gt[gt != 0] = 1\n",
    "    print(np.unique(gt))\n",
    "    ct = ct/np.mean(ct)\n",
    "    for i in range(ct.shape[1]):\n",
    "        hf = h5py.File('./train/{a}_{b}.h5'.format(a = ct_p.split('/')[-1].split('.')[-3], b = str(i)), 'w')\n",
    "        hf.create_dataset('ct', data=ct[:, i, :])\n",
    "        hf.create_dataset('gt', data=gt[:, i, :])"
   ]
  },
  {
   "cell_type": "code",
   "execution_count": null,
   "metadata": {},
   "outputs": [],
   "source": [
    "for ct_p, gt_p in tqdm(zip(val_ct, val_gt), total=len(val_gt)):\n",
    "    ct = sitk.GetArrayFromImage(sitk.ReadImage(ct_p, sitk.sitkFloat32))\n",
    "    gt = sitk.GetArrayFromImage(sitk.ReadImage(gt_p, sitk.sitkInt8))\n",
    "    gt = zoom(gt, np.array([400, gt.shape[1], 400])/gt.shape)\n",
    "    ct = zoom(ct, np.array(gt.shape)/np.array(ct.shape))\n",
    "    print(gt.shape, ct.shape)\n",
    "    gt[gt != 0] = 1\n",
    "    print(np.unique(gt))\n",
    "    ct = ct/np.mean(ct)\n",
    "    for i in range(ct.shape[1]):\n",
    "        hf = h5py.File('./val/{a}_{b}.h5'.format(a = ct_p.split('/')[-1].split('.')[-3], b = str(i)), 'w')\n",
    "        hf.create_dataset('ct', data=ct[:, i, :])\n",
    "        hf.create_dataset('gt', data=gt[:, i, :])"
   ]
  },
  {
   "cell_type": "code",
   "execution_count": 12,
   "metadata": {},
   "outputs": [],
   "source": [
    "val_gt = val_gt.tolist()\n",
    "val_ct = val_ct.tolist()"
   ]
  },
  {
   "cell_type": "code",
   "execution_count": 19,
   "metadata": {},
   "outputs": [],
   "source": [
    "ct = sitk.GetArrayFromImage(sitk.ReadImage(val_ct[4], sitk.sitkFloat32))\n",
    "gt = sitk.GetArrayFromImage(sitk.ReadImage(val_gt[4], sitk.sitkInt8))\n",
    "#gt = zoom(gt, np.array([400, gt.shape[1], 400])/gt.shape)\n",
    "#ct = zoom(ct, np.array(gt.shape)/np.array(ct.shape))\n",
    "#print(gt.shape, ct.shape)\n",
    "#gt[gt != 0] = 1\n",
    "#print(np.unique(gt))\n",
    "#ct = ct/np.mean(ct)"
   ]
  },
  {
   "cell_type": "code",
   "execution_count": 23,
   "metadata": {},
   "outputs": [
    {
     "data": {
      "text/plain": [
       "(11042, 2780)"
      ]
     },
     "execution_count": 23,
     "metadata": {},
     "output_type": "execute_result"
    }
   ],
   "source": [
    "len(os.listdir('./train')), len(os.listdir('./val'))"
   ]
  },
  {
   "cell_type": "code",
   "execution_count": 12,
   "metadata": {},
   "outputs": [
    {
     "data": {
      "application/vnd.jupyter.widget-view+json": {
       "model_id": "5d7b6b9a5dbb4f46929c4b3aa7da626a",
       "version_major": 2,
       "version_minor": 0
      },
      "text/plain": [
       "HBox(children=(HTML(value=''), FloatProgress(value=0.0, max=36.0), HTML(value='')))"
      ]
     },
     "metadata": {},
     "output_type": "display_data"
    },
    {
     "name": "stdout",
     "output_type": "stream",
     "text": [
      "0.9829897177453324\n",
      "0.9864767852219465\n",
      "0.9847080437830535\n",
      "0.9782175363238034\n",
      "0.9813107451082598\n",
      "0.9759158694135402\n",
      "0.9826722811886903\n",
      "0.9845685067719915\n",
      "0.9869026879562093\n",
      "0.9819625681068155\n",
      "0.9847623730595427\n",
      "0.983781687151626\n",
      "0.9845153068582919\n",
      "0.9830365959333374\n",
      "0.9830033925928819\n",
      "0.9833756354665072\n",
      "0.9842562855842849\n",
      "0.9815655225721767\n",
      "0.9836885799446503\n",
      "0.982245185847719\n",
      "0.9825168397025452\n",
      "0.9848495889641358\n",
      "0.9804589545792302\n",
      "0.9845554400912007\n",
      "0.9818515467718526\n",
      "0.9869723313446642\n",
      "0.9779466086871983\n",
      "0.9848786559503647\n",
      "0.9824704195643575\n",
      "0.9813535829934344\n",
      "0.9882410588839049\n",
      "0.9819724049802663\n",
      "0.9837390256698254\n",
      "0.9831781135409169\n",
      "0.9870380381836293\n",
      "0.9840709229508312\n",
      "\n"
     ]
    }
   ],
   "source": [
    "for ct_p, gt_p in tqdm(zip(train_ct, train_gt), total=len(train_gt)):\n",
    "    ct = sitk.GetArrayFromImage(sitk.ReadImage(ct_p, sitk.sitkFloat32))\n",
    "    gt = sitk.GetArrayFromImage(sitk.ReadImage(gt_p, sitk.sitkInt8))\n",
    "    gt[gt > 0] = 1\n",
    "    print(np.mean(gt == 0))"
   ]
  },
  {
   "cell_type": "code",
   "execution_count": null,
   "metadata": {},
   "outputs": [],
   "source": []
  }
 ],
 "metadata": {
  "kernelspec": {
   "display_name": "xinrui",
   "language": "python",
   "name": "xinrui"
  },
  "language_info": {
   "codemirror_mode": {
    "name": "ipython",
    "version": 3
   },
   "file_extension": ".py",
   "mimetype": "text/x-python",
   "name": "python",
   "nbconvert_exporter": "python",
   "pygments_lexer": "ipython3",
   "version": "3.8.5"
  }
 },
 "nbformat": 4,
 "nbformat_minor": 4
}
